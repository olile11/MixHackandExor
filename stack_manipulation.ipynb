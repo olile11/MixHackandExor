{
 "cells": [
  {
   "cell_type": "code",
   "execution_count": null,
   "metadata": {
    "collapsed": true
   },
   "outputs": [],
   "source": [
    ""
   ]
  },
  {
   "metadata": {
    "ExecuteTime": {
     "end_time": "2024-12-23T01:33:30.089250357Z",
     "start_time": "2024-12-23T01:33:29.973006583Z"
    }
   },
   "cell_type": "code",
   "source": [
    "class Stack<Int> {\n",
    "    private val stack = mutableListOf<Int>()\n",
    "    fun push(item: Int) = stack.add(item)\n",
    "    fun pop(): Int? = if (isEmpty()) null else stack.removeAt(stack.size - 1)\n",
    "    fun peek(): Int? = stack.lastOrNull()\n",
    "    fun isEmpty() = stack.isEmpty()\n",
    "    fun size() = stack.size\n",
    "    fun printHead() = println(pop())\n",
    "    fun printStack(){\n",
    "        while (!isEmpty()) {\n",
    "            print(pop())\n",
    "        }\n",
    "        println()\n",
    "    }\n",
    "}\n",
    "\n",
    "fun toBinary(n: Int, stack: Stack<Int>) {\n",
    "    var num = n\n",
    "    while (num != 0) {\n",
    "        stack.push(num % 2)\n",
    "        num /= 2\n",
    "    }\n",
    "}\n",
    "\n",
    "fun toDecimal(stack: Stack<Int>){\n",
    "    var decNum: Int = 0\n",
    "\n",
    "    while (!stack.isEmpty()) {\n",
    "        decNum = (decNum shl 1) or stack.pop()!!\n",
    "    }\n",
    "\n",
    "    println(\"Decimal number: $decNum\")\n",
    "}"
   ],
   "outputs": [],
   "execution_count": 29
  },
  {
   "metadata": {
    "ExecuteTime": {
     "end_time": "2024-12-23T01:37:51.304720307Z",
     "start_time": "2024-12-23T01:37:51.250064528Z"
    }
   },
   "cell_type": "code",
   "source": [
    "val stack = Stack<Int>()\n",
    "toBinary(100, stack)\n",
    "//stack.printStack()\n",
    "toDecimal(stack)"
   ],
   "outputs": [
    {
     "name": "stdout",
     "output_type": "stream",
     "text": [
      "Decimal number: 100\n"
     ]
    }
   ],
   "execution_count": 31
  }
 ],
 "metadata": {
  "kernelspec": {
   "display_name": "Kotlin",
   "language": "kotlin",
   "name": "kotlin"
  },
  "language_info": {
   "name": "kotlin",
   "version": "1.9.23",
   "mimetype": "text/x-kotlin",
   "file_extension": ".kt",
   "pygments_lexer": "kotlin",
   "codemirror_mode": "text/x-kotlin",
   "nbconvert_exporter": ""
  }
 },
 "nbformat": 4,
 "nbformat_minor": 0
}
